{
 "cells": [
  {
   "cell_type": "code",
   "execution_count": 1,
   "id": "5579e381",
   "metadata": {},
   "outputs": [],
   "source": [
    "from selenium import webdriver\n",
    "from selenium.webdriver.common.action_chains import ActionChains     #javascript 조작을 돕는 action chains\n",
    "from bs4 import BeautifulSoup\n",
    "import pandas as pd\n",
    "import time\n",
    "import warnings\n",
    "warnings.filterwarnings(action='ignore')\n",
    "\n",
    "from PIL import Image"
   ]
  },
  {
   "cell_type": "code",
   "execution_count": 2,
   "id": "fc2ce2cb",
   "metadata": {},
   "outputs": [],
   "source": [
    "import urllib.request as req\n",
    "from bs4 import BeautifulSoup"
   ]
  },
  {
   "cell_type": "code",
   "execution_count": 3,
   "id": "83a0cf3b",
   "metadata": {},
   "outputs": [],
   "source": [
    "driver=webdriver.Chrome('chromedriver.exe')\n",
    "url = 'https://sports.news.naver.com/kbaseball/news/index?isphoto=N&type=popular&date=20220730'\n",
    "driver.get(url)\n",
    "time.sleep(2)"
   ]
  },
  {
   "cell_type": "code",
   "execution_count": 4,
   "id": "eeb84c76",
   "metadata": {},
   "outputs": [],
   "source": [
    "action = ActionChains(driver)"
   ]
  },
  {
   "cell_type": "code",
   "execution_count": null,
   "id": "9f1ae4b1",
   "metadata": {},
   "outputs": [],
   "source": [
    "parent_level_menu = driver.find_element_by_xpath('//*[@id=\"_newsList\"]/ul/li[1]/div/a/span')\n",
    "action.move_to_element(parent_level_menu).perform()\n",
    "time.sleep(0.5)"
   ]
  },
  {
   "cell_type": "code",
   "execution_count": null,
   "id": "5b1d39b2",
   "metadata": {},
   "outputs": [],
   "source": [
    "from bs4 import BeautifulSoup\n",
    "import requests\n",
    "import re\n",
    "import time\n",
    "from selenium import webdriver\n",
    "from selenium.webdriver.common.by import By"
   ]
  },
  {
   "cell_type": "code",
   "execution_count": null,
   "id": "e7bec531",
   "metadata": {},
   "outputs": [],
   "source": [
    "import urllib.request as req\n",
    "from bs4 import BeautifulSoup\n",
    "\n",
    "url = \"https://sports.news.naver.com/news?oid=445&aid=0000062651\"\n",
    "html = req.urlopen(url)\n",
    "soup = BeautifulSoup(html, 'html.parser')\n",
    "\n",
    "target_news = soup.find('div', {'class':'news_headline'})\n",
    "\n",
    "for i in target_news:\n",
    "    h4_tag = i.find\n",
    "    title = title_tag.text()"
   ]
  },
  {
   "cell_type": "code",
   "execution_count": 32,
   "id": "c3aa0f72",
   "metadata": {},
   "outputs": [],
   "source": [
    "import urllib.request as req\n",
    "from bs4 import BeautifulSoup\n",
    "\n",
    "url = \"https://sports.news.naver.com/news?oid=445&aid=0000062651\"\n",
    "html = req.urlopen(url)\n",
    "soup = BeautifulSoup(html, 'html.parser')\n",
    "\n",
    "whole = []\n",
    "\n",
    "target_news = soup.find('h4', {'class':'title'})\n",
    "pp = target_news.get_text()\n",
    "whole.append(pp)"
   ]
  },
  {
   "cell_type": "code",
   "execution_count": 33,
   "id": "8fda8cb0",
   "metadata": {},
   "outputs": [
    {
     "data": {
      "text/plain": [
       "['[단독] 키움, 롯데와 동일한 \\'치어리더 성추행 논란\\' 하도급 업체… \"구단 긴급 논의 착수\"']"
      ]
     },
     "execution_count": 33,
     "metadata": {},
     "output_type": "execute_result"
    }
   ],
   "source": [
    "whole"
   ]
  },
  {
   "cell_type": "code",
   "execution_count": null,
   "id": "12fc203e",
   "metadata": {},
   "outputs": [],
   "source": [
    "import urllib.request as req\n",
    "from bs4 import BeautifulSoup\n",
    "\n",
    "url = \"https://sports.news.naver.com/kbaseball/news/index?date=20220730&isphoto=N&type=popular\"\n",
    "html = req.urlopen(url)\n",
    "soup = BeautifulSoup(html, 'html.parser')"
   ]
  },
  {
   "cell_type": "code",
   "execution_count": null,
   "id": "44cb15a2",
   "metadata": {},
   "outputs": [],
   "source": [
    "soup"
   ]
  },
  {
   "cell_type": "code",
   "execution_count": null,
   "id": "1336f480",
   "metadata": {},
   "outputs": [],
   "source": []
  }
 ],
 "metadata": {
  "kernelspec": {
   "display_name": "Python 3 (ipykernel)",
   "language": "python",
   "name": "python3"
  },
  "language_info": {
   "codemirror_mode": {
    "name": "ipython",
    "version": 3
   },
   "file_extension": ".py",
   "mimetype": "text/x-python",
   "name": "python",
   "nbconvert_exporter": "python",
   "pygments_lexer": "ipython3",
   "version": "3.9.7"
  }
 },
 "nbformat": 4,
 "nbformat_minor": 5
}
